{
  "nbformat": 4,
  "nbformat_minor": 0,
  "metadata": {
    "colab": {
      "name": "6-7.Perceptron.ipynb",
      "provenance": [],
      "collapsed_sections": []
    },
    "kernelspec": {
      "name": "python3",
      "display_name": "Python 3"
    }
  },
  "cells": [
    {
      "cell_type": "code",
      "metadata": {
        "id": "bqpdu05qc6bP"
      },
      "source": [
        "# 人工データのランダム生成\n",
        "from sklearn.datasets import make_blobs\n",
        "\n",
        "x, labels = make_blobs(random_state=1, n_samples=100, n_features=2, cluster_std=1.2, centers=2)"
      ],
      "execution_count": null,
      "outputs": []
    },
    {
      "cell_type": "code",
      "metadata": {
        "id": "JtzSGmlgCnR1"
      },
      "source": [
        "# xの形状を表示してみる\n",
        "x.shape"
      ],
      "execution_count": null,
      "outputs": []
    },
    {
      "cell_type": "code",
      "metadata": {
        "id": "WKX0To6_CtNY"
      },
      "source": [
        "# labelの形状を表示\n",
        "labels.shape"
      ],
      "execution_count": null,
      "outputs": []
    },
    {
      "cell_type": "code",
      "metadata": {
        "id": "tB38aF1U8nWT"
      },
      "source": [
        "# labelsを表示\n",
        "labels"
      ],
      "execution_count": null,
      "outputs": []
    },
    {
      "cell_type": "code",
      "metadata": {
        "id": "WDieDOlOCttu"
      },
      "source": [
        "# ラベルを用いて色付け\n",
        "import matplotlib.pyplot as plt\n",
        "plt.scatter(x[:, 0], x[:, 1], c=labels, s=50, cmap='autumn', marker='o')\n",
        "plt.colorbar()"
      ],
      "execution_count": null,
      "outputs": []
    },
    {
      "cell_type": "markdown",
      "metadata": {
        "id": "O2IEif6fNwBw"
      },
      "source": [
        "学習データとテストデータにランダムに分割\n",
        "\n",
        "https://scikit-learn.org/stable/modules/generated/sklearn.model_selection.train_test_split.html"
      ]
    },
    {
      "cell_type": "code",
      "metadata": {
        "id": "u_N82zy3Cwho"
      },
      "source": [
        "# 70%を学習データに\n",
        "from sklearn.model_selection import train_test_split\n",
        "X_train, X_test, label_train, label_test = train_test_split(x, labels, train_size=0.7, random_state=0)"
      ],
      "execution_count": null,
      "outputs": []
    },
    {
      "cell_type": "code",
      "metadata": {
        "id": "aKbD9F1uOH6-"
      },
      "source": [
        "# 学習とテストデータを描画\n",
        "plt.scatter(X_train[:, 0], X_train[:, 1], s=50, marker='o', label=\"train\")\n",
        "plt.scatter(X_test[:, 0], X_test[:, 1], s=50, marker='o', label=\"test\")\n",
        "plt.legend()"
      ],
      "execution_count": null,
      "outputs": []
    },
    {
      "cell_type": "markdown",
      "metadata": {
        "id": "wpZTpB2SQaqV"
      },
      "source": [
        "単純パーセプトロンのクラスおよび推定、学習関数の実装"
      ]
    },
    {
      "cell_type": "code",
      "metadata": {
        "id": "kwbMPWgxS8T9"
      },
      "source": [
        "# パーセプトロンのweightsから一つのデータ(one_data)の予測を出力(0 or 1)\n",
        "def _predict(weights, one_data):\n",
        "  \"\"\"\n",
        "  予測用の関数\n",
        "  Parameters\n",
        "  ----------\n",
        "  weights: numpy.ndarray\n",
        "  パーセプトロンのweight\n",
        "  one_data: numpy.ndarray\n",
        "  １つのデータ\n",
        "\n",
        "  Returns\n",
        "  ----------\n",
        "  output: int\n",
        "  予測結果\n",
        "  \"\"\"\n",
        "  output = 0.0 #出力値用の変数\n",
        "  #実装する\n",
        "  return 1 if output >= 0.5 else 0 #0.5以上なら1とする"
      ],
      "execution_count": null,
      "outputs": []
    },
    {
      "cell_type": "code",
      "metadata": {
        "id": "bvy9j83vXMt2"
      },
      "source": [
        "def _fit(weights, X_train, label_train, l_rate, n_epoch):\n",
        "  \"\"\"\n",
        "  学習用の関数\n",
        "  Parameters\n",
        "  ----------\n",
        "  weights: numpy.ndarray\n",
        "  パーセプトロンのweights\n",
        "  X_train: numpy.ndarray\n",
        "  学習データ\n",
        "  label_train: list\n",
        "  学習データのラベル\n",
        "  l_rate: float\n",
        "  学習率\n",
        "  n_epoch: int\n",
        "  更新回数\n",
        "  \n",
        "  Returns\n",
        "  weights: numpy.ndarray\n",
        "  学習されたパーセプトロンのweights\n",
        "  loss_history: list\n",
        "  誤差の履歴（epochの回数の長さ）\n",
        "  ----------\n",
        "  \"\"\"\n",
        "  loss_history = []\n",
        "  for epoch in range(n_epoch):\n",
        "    total_loss = 0.0  #このエポックでの誤差の総和を入れる\n",
        "    update_weights = np.zeros_like(weights) #dJ/dw用の配列\n",
        "    #実装する（_predict関数を使って予測誤差計算）\n",
        "    loss_history.append((total_loss/(2*X_train.shape[0])))\n",
        "  return weights, loss_history"
      ],
      "execution_count": null,
      "outputs": []
    },
    {
      "cell_type": "code",
      "metadata": {
        "id": "cJn3pyAcRdrY"
      },
      "source": [
        "# クラスの実装\n",
        "import numpy as np\n",
        "from sklearn.metrics import classification_report\n",
        "from sklearn.metrics import confusion_matrix\n",
        "import seaborn as sns\n",
        "class SimplePerceptron:\n",
        "  def __init__(self, n_dim):\n",
        "    self.weights = np.zeros(n_dim) #weightsの初期化\n",
        "  def predict(self, one_data):\n",
        "    return _predict(self.weights, one_data)\n",
        "  def fit(self, X_train, label_train, l_rate=0.1, n_epoch=10):\n",
        "    self.weights, losses = _fit(self.weights, X_train, label_train, l_rate, n_epoch)\n",
        "    #loss(エラーの推移を描画)\n",
        "    print(\"[誤算推移]\")\n",
        "    plt.plot(losses)\n",
        "    plt.xlabel(\"epochs\")\n",
        "    plt.ylabel(\"loss (MSE)\")\n",
        "  def evaluate(self, X_test, label_test):#評価用のコード\n",
        "    predicts = []\n",
        "    for one_data, one_label in zip(X_test, label_test):\n",
        "      pred = self.predict(one_data)\n",
        "      predicts.append(pred)\n",
        "    predicts = np.array(predicts)\n",
        "    print(\"[分類性能を示す指標}\")\n",
        "    print(classification_report(label_test, predicts, target_names=[\"0\",\"1\"]))\n",
        "    print(\"[混同行列]\")\n",
        "    cm = confusion_matrix(label_test, predicts)\n",
        "    sns.heatmap(cm, annot=True, cmap='Blues')\n",
        "    plt.show()\n",
        "    print(\"[各点の予測]\")\n",
        "    plt.scatter(X_test[predicts==0, 0], X_test[predicts==0, 1], s=50, marker='o', label=\"predicted as 0\")\n",
        "    plt.scatter(X_test[predicts==1, 0], X_test[predicts==1, 1], s=50, marker='o', label=\"predicted as 1\")\n",
        "    plt.legend()\n",
        "    plt.show()"
      ],
      "execution_count": null,
      "outputs": []
    },
    {
      "cell_type": "code",
      "metadata": {
        "id": "fMBtio00RdJm"
      },
      "source": [
        "# predictのテスト\n",
        "tmp_weights =  np.array([0.5, 1.0])\n",
        "print(X_test[0])\n",
        "_predict(tmp_weights, X_test[0])"
      ],
      "execution_count": null,
      "outputs": []
    },
    {
      "cell_type": "markdown",
      "metadata": {
        "id": "gUzV19MOb5rm"
      },
      "source": [
        "パーセプトロンの学習"
      ]
    },
    {
      "cell_type": "code",
      "metadata": {
        "id": "dro0fc0JXee6"
      },
      "source": [
        "perceptron = SimplePerceptron(X_train.shape[1])\n",
        "perceptron.fit(X_train, label_train)"
      ],
      "execution_count": null,
      "outputs": []
    },
    {
      "cell_type": "markdown",
      "metadata": {
        "id": "RcerCyX_0KZH"
      },
      "source": [
        "学習された重みの表示"
      ]
    },
    {
      "cell_type": "code",
      "metadata": {
        "id": "D81lQjKj0NVa"
      },
      "source": [
        "perceptron.weights"
      ],
      "execution_count": null,
      "outputs": []
    },
    {
      "cell_type": "markdown",
      "metadata": {
        "id": "vMOly9pw0GpK"
      },
      "source": [
        "学習したパーセプトロンの評価"
      ]
    },
    {
      "cell_type": "code",
      "metadata": {
        "id": "C6jczq32kbr5"
      },
      "source": [
        "perceptron.evaluate(X_test, label_test)"
      ],
      "execution_count": null,
      "outputs": []
    },
    {
      "cell_type": "code",
      "metadata": {
        "id": "ubYJNTGF7PV6"
      },
      "source": [
        ""
      ],
      "execution_count": null,
      "outputs": []
    }
  ]
}