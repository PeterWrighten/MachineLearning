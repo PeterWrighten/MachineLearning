{
  "nbformat": 4,
  "nbformat_minor": 0,
  "metadata": {
    "colab": {
      "name": "4.最近傍探索.ipynb",
      "provenance": [],
      "collapsed_sections": []
    },
    "kernelspec": {
      "name": "python3",
      "display_name": "Python 3"
    }
  },
  "cells": [
    {
      "cell_type": "markdown",
      "metadata": {
        "id": "4WdvS03opc7h"
      },
      "source": [
        "# 人工データ作成"
      ]
    },
    {
      "cell_type": "code",
      "metadata": {
        "id": "cnf0hjUDrrxD"
      },
      "source": [
        "# 人工データのランダム生成\n",
        "from sklearn.datasets import make_blobs\n",
        "\n",
        "x, labels = make_blobs(random_state=0, n_samples=50, n_features=2, cluster_std=0.5, centers=3)"
      ],
      "execution_count": 25,
      "outputs": []
    },
    {
      "cell_type": "code",
      "metadata": {
        "id": "3JOtLgODrxix",
        "colab": {
          "base_uri": "https://localhost:8080/",
          "height": 0
        },
        "outputId": "d9958637-3377-44c2-e6cb-1204f9f6c7d7"
      },
      "source": [
        "# xの形状を表示してみる\n",
        "x.shape"
      ],
      "execution_count": 26,
      "outputs": [
        {
          "output_type": "execute_result",
          "data": {
            "text/plain": [
              "(50, 2)"
            ]
          },
          "metadata": {},
          "execution_count": 26
        }
      ]
    },
    {
      "cell_type": "code",
      "metadata": {
        "id": "ErpN1Srbr1Yd",
        "colab": {
          "base_uri": "https://localhost:8080/",
          "height": 282
        },
        "outputId": "854610e4-bd31-4220-bbfd-db51723b9d32"
      },
      "source": [
        "# matplotlibで散布図を描画\n",
        "import matplotlib.pyplot as plt\n",
        "\n",
        "plt.scatter(x[:, 0], x[:, 1], s=50, marker='o')"
      ],
      "execution_count": 27,
      "outputs": [
        {
          "output_type": "execute_result",
          "data": {
            "text/plain": [
              "<matplotlib.collections.PathCollection at 0x7fb8a0cc4550>"
            ]
          },
          "metadata": {},
          "execution_count": 27
        },
        {
          "output_type": "display_data",
          "data": {
            "image/png": "[encoded data removed]",
            "text/plain": [
              "<Figure size 432x288 with 1 Axes>"
            ]
          },
          "metadata": {
            "needs_background": "light"
          }
        }
      ]
    },
    {
      "cell_type": "markdown",
      "metadata": {
        "id": "ITh2JkrSr-6E"
      },
      "source": [
        "# 距離計算"
      ]
    },
    {
      "cell_type": "code",
      "metadata": {
        "id": "tZK40_CMsAxC"
      },
      "source": [
        "import numpy as np\n",
        "def CalcEuclideanDistance(vec1, vec2):\n",
        "  # 先週実装したものをコピペする\n",
        "  return np.sqrt(np.sum(np.square(vec1 - vec2)))\n",
        "\n",
        "# データのインデックスを渡すと距離を計算してくれる関数\n",
        "def CalcDist(data, idx1, idx2, f_distance=CalcEuclideanDistance): \n",
        "  vec1 = data[idx1, :]\n",
        "  vec2 = data[idx2, :]\n",
        "  return f_distance(vec1, vec2)"
      ],
      "execution_count": 28,
      "outputs": []
    },
    {
      "cell_type": "markdown",
      "metadata": {
        "id": "qS1c6lHssMp4"
      },
      "source": [
        "# 最近傍探索\n",
        "完成したら実行して、このページをPDFにプリントして、CLEから提出"
      ]
    },
    {
      "cell_type": "code",
      "metadata": {
        "id": "GWPleMr2pHMd"
      },
      "source": [
        "def FindMostSimilarPoint(data, idx): \n",
        "  #idxで指定されたデータと最も近いデータを実装してみよう（自身を除く）\n",
        "  #必要なら浮動小数点数型の最大値を使う float('inf')\n",
        "  for i in range(0, 49):\n",
        "\n",
        "    if i != idx:\n",
        "      d = CalcDist(data, idx, i)\n",
        "      min = CalcDist(data, idx, 0)\n",
        "      idx_n = 0   \n",
        "      if d < min:\n",
        "          min = d\n",
        "          idx_n = i\n",
        "      else:\n",
        "          continue\n",
        "    else:\n",
        "      continue\n",
        "    i = i + 1 \n",
        "    \n",
        "  return idx_n  #最も近いデータのインデックスを返すように実装"
      ],
      "execution_count": 45,
      "outputs": []
    },
    {
      "cell_type": "code",
      "metadata": {
        "id": "gcF8U-OBsWYn",
        "colab": {
          "base_uri": "https://localhost:8080/",
          "height": 282
        },
        "outputId": "55ee94e7-f73e-451c-d370-0c6aaeda430b"
      },
      "source": [
        "# 最も近い点が求められているか図示してみよう\n",
        "query_idx = 10\n",
        "nn_idx = FindMostSimilarPoint(x, query_idx)\n",
        "# クエリと最近傍点を表示(青がクエリ、赤が最近傍点)\n",
        "plt.scatter(x[:, 0], x[:, 1], s=50, marker='o', c='black')\n",
        "plt.scatter(x[query_idx, 0], x[query_idx, 1], s=50, marker='o', c='blue')\n",
        "plt.scatter(x[nn_idx, 0], x[nn_idx, 1], s=50, marker='o', c='red')"
      ],
      "execution_count": 44,
      "outputs": [
        {
          "output_type": "execute_result",
          "data": {
            "text/plain": [
              "<matplotlib.collections.PathCollection at 0x7fb8a0bb8790>"
            ]
          },
          "metadata": {},
          "execution_count": 44
        },
        {
          "output_type": "display_data",
          "data": {
            "image/png": "[encoded data removed]",
            "text/plain": [
              "<Figure size 432x288 with 1 Axes>"
            ]
          },
          "metadata": {
            "needs_background": "light"
          }
        }
      ]
    },
    {
      "cell_type": "code",
      "metadata": {
        "id": "j6-FI5xnCiO1"
      },
      "source": [
        ""
      ],
      "execution_count": null,
      "outputs": []
    }
  ]
}