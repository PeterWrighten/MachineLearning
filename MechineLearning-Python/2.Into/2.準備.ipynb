{
  "cells": [
    {
      "cell_type": "markdown",
      "metadata": {
        "id": "0JKQl2hyQzbf"
      },
      "source": [
        "# 人工データ作成と表示"
      ]
    },
    {
      "cell_type": "code",
      "execution_count": 1,
      "metadata": {
        "id": "Ls0LBj36D6Tf"
      },
      "outputs": [],
      "source": [
        "# 人工データのランダム生成\n",
        "from sklearn.datasets import make_blobs\n",
        "\n",
        "x, labels = make_blobs(random_state=0, n_samples=50, n_features=2, cluster_std=0.5, centers=3)"
      ]
    },
    {
      "cell_type": "code",
      "execution_count": 2,
      "metadata": {
        "id": "cyxNmu8SOnOG"
      },
      "outputs": [
        {
          "data": {
            "text/plain": [
              "(50, 2)"
            ]
          },
          "execution_count": 2,
          "metadata": {},
          "output_type": "execute_result"
        }
      ],
      "source": [
        "# xの形状を表示してみる\n",
        "x.shape"
      ]
    },
    {
      "cell_type": "code",
      "execution_count": 3,
      "metadata": {
        "id": "DksJGs1bLD8P"
      },
      "outputs": [
        {
          "name": "stdout",
          "output_type": "stream",
          "text": [
            "[[ 1.45131429  4.22810872]\n",
            " [ 1.73810647  0.71629308]\n",
            " [ 1.19820169  4.47062449]\n",
            " [ 1.13280393  3.87673946]\n",
            " [-1.72849249  3.5291048 ]\n",
            " [ 0.5323772   3.31338909]\n",
            " [-1.521654    3.81081751]\n",
            " [-0.58532866  2.24400273]\n",
            " [ 1.7190373   0.71788708]\n",
            " [-1.32573319  2.57547722]\n",
            " [-1.46344797  3.11887694]\n",
            " [ 1.53099104  0.18765469]\n",
            " [ 0.78260667  4.15263595]\n",
            " [ 1.24016835  1.12905479]\n",
            " [ 2.08852613  1.04889961]\n",
            " [ 2.11114739  3.57660449]\n",
            " [-0.30022483  4.63059663]\n",
            " [-0.93751423  2.82791984]\n",
            " [-0.78277792  3.86582685]\n",
            " [ 0.802314    4.38196181]\n",
            " [ 1.64869438  0.03452236]\n",
            " [ 1.2483186   0.79129352]\n",
            " [ 1.80044143  0.67862651]\n",
            " [ 1.04829186  5.03092408]\n",
            " [-1.34872081  3.27116885]\n",
            " [-2.11346572  3.88969285]\n",
            " [-2.10947893  3.3682955 ]\n",
            " [ 2.62496786  0.28025075]\n",
            " [-1.68268028  2.94596493]\n",
            " [ 0.99914934  4.2101954 ]\n",
            " [ 1.42886984  1.28640884]\n",
            " [ 1.40848818  3.93270482]\n",
            " [-2.16214651  3.40258062]\n",
            " [ 2.4198128   0.96215512]\n",
            " [ 1.79986495  0.30734757]\n",
            " [ 1.72330962  4.2012082 ]\n",
            " [ 1.60753424  1.09111491]\n",
            " [-1.96230259  2.62845743]\n",
            " [ 1.05374379  4.49286859]\n",
            " [-2.06228032  3.44510812]\n",
            " [ 1.20213243  1.87305136]\n",
            " [ 1.35678894  4.36462484]\n",
            " [-1.42276652  3.40620178]\n",
            " [ 2.04117641  1.1118296 ]\n",
            " [ 1.60161834  0.92363636]\n",
            " [ 0.92466065  4.50908658]\n",
            " [ 2.14398059  0.69677319]\n",
            " [-1.29407279  2.14976042]\n",
            " [ 1.74265969  5.03846671]\n",
            " [ 1.59141542  4.90497725]]\n"
          ]
        }
      ],
      "source": [
        "# xを表示してみる\n",
        "print(x)"
      ]
    },
    {
      "cell_type": "code",
      "execution_count": 4,
      "metadata": {
        "id": "q6ZyHYHbMZjC"
      },
      "outputs": [
        {
          "name": "stdout",
          "output_type": "stream",
          "text": [
            "[0 1 0 0 2 0 2 2 1 2 2 1 0 1 1 0 0 2 2 0 1 1 1 0 2 2 2 1 2 0 1 0 2 1 1 0 1\n",
            " 2 0 2 1 0 2 1 1 0 1 2 0 0]\n"
          ]
        }
      ],
      "source": [
        "# labelsを表示してみる\n",
        "print(labels)"
      ]
    },
    {
      "cell_type": "code",
      "execution_count": 5,
      "metadata": {
        "id": "A-NR7SzuMrWp"
      },
      "outputs": [
        {
          "name": "stderr",
          "output_type": "stream",
          "text": [
            "Fontconfig warning: ignoring UTF-8: not a valid region tag\n"
          ]
        },
        {
          "data": {
            "text/plain": [
              "<matplotlib.colorbar.Colorbar at 0x124ec5fd0>"
            ]
          },
          "execution_count": 5,
          "metadata": {},
          "output_type": "execute_result"
        },
        {
          "data": {
            "image/png": "[encoded data removed]",
            "text/plain": [
              "<Figure size 432x288 with 2 Axes>"
            ]
          },
          "metadata": {
            "needs_background": "light"
          },
          "output_type": "display_data"
        }
      ],
      "source": [
        "# matplotlibで散布図を描画\n",
        "import matplotlib.pyplot as plt\n",
        "\n",
        "plt.scatter(x[:, 0], x[:, 1], c=labels, s=50, cmap='autumn', marker='o')\n",
        "plt.colorbar()"
      ]
    },
    {
      "cell_type": "markdown",
      "metadata": {
        "id": "8_ZIRDDDghbJ"
      },
      "source": [
        "maptplotlib scatter関数のAPIドキュメント。既存の関数を使ったプログラミングでは、APIドキュメントがその関数の仕様書になります。引数や関数の意味を理解するのに重要です。参考にしてください。やりたい事を実現する際や、既存のコードを理解する際の助けになります。\n",
        "https://matplotlib.org/3.3.2/api/_as_gen/matplotlib.pyplot.scatter.html#matplotlib.pyplot.scatter"
      ]
    },
    {
      "cell_type": "markdown",
      "metadata": {
        "id": "xloVcXbnQ42C"
      },
      "source": [
        "# 公開データセットの読み込みと表示"
      ]
    },
    {
      "cell_type": "code",
      "execution_count": null,
      "metadata": {
        "id": "X5OpP8SNDEQE"
      },
      "outputs": [],
      "source": [
        "# 公開データセット（ボストンの住宅価格）を読み込んでみる\n",
        "import pandas as pd\n",
        "from sklearn.datasets import load_boston\n",
        "boston = load_boston()"
      ]
    },
    {
      "cell_type": "code",
      "execution_count": null,
      "metadata": {
        "id": "sYc7g-jqPhJ7"
      },
      "outputs": [],
      "source": [
        "# データの形状を表示\n",
        "boston.data.shape"
      ]
    },
    {
      "cell_type": "code",
      "execution_count": null,
      "metadata": {
        "id": "a3viK-Y5QGDl"
      },
      "outputs": [],
      "source": [
        "# ターゲット（住宅価格）の形状を表示\n",
        "boston.target.shape"
      ]
    },
    {
      "cell_type": "code",
      "execution_count": null,
      "metadata": {
        "id": "IwjOGp_7Pq1W"
      },
      "outputs": [],
      "source": [
        "# データの最初だけ表示（pandas利用）\n",
        "df = pd.DataFrame(boston.data, columns=boston.feature_names)\n",
        "df.head()"
      ]
    },
    {
      "cell_type": "code",
      "execution_count": null,
      "metadata": {
        "id": "Mz79RKZpwM1C"
      },
      "outputs": [],
      "source": [
        "# ターゲット（住宅価格）を表示\n",
        "print(boston.target)"
      ]
    },
    {
      "cell_type": "code",
      "execution_count": null,
      "metadata": {
        "id": "tOOHwvmoDklF"
      },
      "outputs": [],
      "source": [
        "# データセットの概要\n",
        "print(boston.DESCR)"
      ]
    },
    {
      "cell_type": "markdown",
      "metadata": {
        "id": "5ZAMUfPNQ-y6"
      },
      "source": [
        "# やってみよう"
      ]
    },
    {
      "cell_type": "markdown",
      "metadata": {
        "id": "foFeA9gWR_Jp"
      },
      "source": [
        "完成したら実行して、このページをPDFにプリントして、CLEから提出"
      ]
    },
    {
      "cell_type": "code",
      "execution_count": null,
      "metadata": {
        "id": "MdQhbiVhDrwF"
      },
      "outputs": [],
      "source": [
        "# Bostonデータから特定の2つの属性を選んで、散布図に描画してみよう\n",
        "\n"
      ]
    },
    {
      "cell_type": "code",
      "execution_count": null,
      "metadata": {
        "id": "HhWPmhRWQeUe"
      },
      "outputs": [],
      "source": [
        "# Bostonデータから特定の2つの属性を選んで、散布図に描画した上で、各点の色を住宅価格に応じた色付けをしてみよう（グラデーション）。\n",
        "\n"
      ]
    }
  ],
  "metadata": {
    "colab": {
      "collapsed_sections": [],
      "name": "2.準備.ipynb",
      "provenance": [],
      "toc_visible": true
    },
    "interpreter": {
      "hash": "aee8b7b246df8f9039afb4144a1f6fd8d2ca17a180786b69acc140d282b71a49"
    },
    "kernelspec": {
      "display_name": "Python 3.9.7 64-bit",
      "name": "python3"
    },
    "language_info": {
      "codemirror_mode": {
        "name": "ipython",
        "version": 3
      },
      "file_extension": ".py",
      "mimetype": "text/x-python",
      "name": "python",
      "nbconvert_exporter": "python",
      "pygments_lexer": "ipython3",
      "version": "3.9.7"
    }
  },
  "nbformat": 4,
  "nbformat_minor": 0
}
