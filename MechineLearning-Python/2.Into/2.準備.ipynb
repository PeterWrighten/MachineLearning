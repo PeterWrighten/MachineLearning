{
  "nbformat": 4,
  "nbformat_minor": 0,
  "metadata": {
    "colab": {
      "name": "2.準備.ipynb",
      "provenance": [],
      "collapsed_sections": [],
      "toc_visible": true
    },
    "kernelspec": {
      "name": "python3",
      "display_name": "Python 3"
    }
  },
  "cells": [
    {
      "cell_type": "markdown",
      "metadata": {
        "id": "0JKQl2hyQzbf"
      },
      "source": [
        "# 人工データ作成と表示"
      ]
    },
    {
      "cell_type": "code",
      "metadata": {
        "id": "Ls0LBj36D6Tf"
      },
      "source": [
        "# 人工データのランダム生成\n",
        "from sklearn.datasets import make_blobs\n",
        "\n",
        "x, labels = make_blobs(random_state=0, n_samples=50, n_features=2, cluster_std=0.5, centers=3)"
      ],
      "execution_count": null,
      "outputs": []
    },
    {
      "cell_type": "code",
      "metadata": {
        "id": "cyxNmu8SOnOG"
      },
      "source": [
        "# xの形状を表示してみる\n",
        "x.shape"
      ],
      "execution_count": null,
      "outputs": []
    },
    {
      "cell_type": "code",
      "metadata": {
        "id": "DksJGs1bLD8P"
      },
      "source": [
        "# xを表示してみる\n",
        "print(x)"
      ],
      "execution_count": null,
      "outputs": []
    },
    {
      "cell_type": "code",
      "metadata": {
        "id": "q6ZyHYHbMZjC"
      },
      "source": [
        "# labelsを表示してみる\n",
        "print(labels)"
      ],
      "execution_count": null,
      "outputs": []
    },
    {
      "cell_type": "code",
      "metadata": {
        "id": "A-NR7SzuMrWp"
      },
      "source": [
        "# matplotlibで散布図を描画\n",
        "import matplotlib.pyplot as plt\n",
        "\n",
        "plt.scatter(x[:, 0], x[:, 1], c=labels, s=50, cmap='autumn', marker='o')\n",
        "plt.colorbar()"
      ],
      "execution_count": null,
      "outputs": []
    },
    {
      "cell_type": "markdown",
      "metadata": {
        "id": "8_ZIRDDDghbJ"
      },
      "source": [
        "maptplotlib scatter関数のAPIドキュメント。既存の関数を使ったプログラミングでは、APIドキュメントがその関数の仕様書になります。引数や関数の意味を理解するのに重要です。参考にしてください。やりたい事を実現する際や、既存のコードを理解する際の助けになります。\n",
        "https://matplotlib.org/3.3.2/api/_as_gen/matplotlib.pyplot.scatter.html#matplotlib.pyplot.scatter"
      ]
    },
    {
      "cell_type": "markdown",
      "metadata": {
        "id": "xloVcXbnQ42C"
      },
      "source": [
        "# 公開データセットの読み込みと表示"
      ]
    },
    {
      "cell_type": "code",
      "metadata": {
        "id": "X5OpP8SNDEQE"
      },
      "source": [
        "# 公開データセット（ボストンの住宅価格）を読み込んでみる\n",
        "import pandas as pd\n",
        "from sklearn.datasets import load_boston\n",
        "boston = load_boston()"
      ],
      "execution_count": null,
      "outputs": []
    },
    {
      "cell_type": "code",
      "metadata": {
        "id": "sYc7g-jqPhJ7"
      },
      "source": [
        "# データの形状を表示\n",
        "boston.data.shape"
      ],
      "execution_count": null,
      "outputs": []
    },
    {
      "cell_type": "code",
      "metadata": {
        "id": "a3viK-Y5QGDl"
      },
      "source": [
        "# ターゲット（住宅価格）の形状を表示\n",
        "boston.target.shape"
      ],
      "execution_count": null,
      "outputs": []
    },
    {
      "cell_type": "code",
      "metadata": {
        "id": "IwjOGp_7Pq1W"
      },
      "source": [
        "# データの最初だけ表示（pandas利用）\n",
        "df = pd.DataFrame(boston.data, columns=boston.feature_names)\n",
        "df.head()"
      ],
      "execution_count": null,
      "outputs": []
    },
    {
      "cell_type": "code",
      "metadata": {
        "id": "Mz79RKZpwM1C"
      },
      "source": [
        "# ターゲット（住宅価格）を表示\n",
        "print(boston.target)"
      ],
      "execution_count": null,
      "outputs": []
    },
    {
      "cell_type": "code",
      "metadata": {
        "id": "tOOHwvmoDklF"
      },
      "source": [
        "# データセットの概要\n",
        "print(boston.DESCR)"
      ],
      "execution_count": null,
      "outputs": []
    },
    {
      "cell_type": "markdown",
      "metadata": {
        "id": "5ZAMUfPNQ-y6"
      },
      "source": [
        "# やってみよう"
      ]
    },
    {
      "cell_type": "markdown",
      "metadata": {
        "id": "foFeA9gWR_Jp"
      },
      "source": [
        "完成したら実行して、このページをPDFにプリントして、CLEから提出"
      ]
    },
    {
      "cell_type": "code",
      "metadata": {
        "id": "MdQhbiVhDrwF"
      },
      "source": [
        "# Bostonデータから特定の2つの属性を選んで、散布図に描画してみよう\n",
        "\n"
      ],
      "execution_count": null,
      "outputs": []
    },
    {
      "cell_type": "code",
      "metadata": {
        "id": "HhWPmhRWQeUe"
      },
      "source": [
        "# Bostonデータから特定の2つの属性を選んで、散布図に描画した上で、各点の色を住宅価格に応じた色付けをしてみよう（グラデーション）。\n",
        "\n"
      ],
      "execution_count": null,
      "outputs": []
    }
  ]
}