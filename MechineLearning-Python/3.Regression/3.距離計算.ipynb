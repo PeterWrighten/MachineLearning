{
  "cells": [
    {
      "cell_type": "markdown",
      "metadata": {
        "id": "HpJNI2uWRttb"
      },
      "source": [
        "# データの読み出し"
      ]
    },
    {
      "cell_type": "code",
      "execution_count": 2,
      "metadata": {
        "id": "ydaz2H5TRigU"
      },
      "outputs": [
        {
          "name": "stderr",
          "output_type": "stream",
          "text": [
            "/usr/local/lib/python3.9/site-packages/sklearn/utils/deprecation.py:87: FutureWarning: Function load_boston is deprecated; `load_boston` is deprecated in 1.0 and will be removed in 1.2.\n",
            "\n",
            "    The Boston housing prices dataset has an ethical problem. You can refer to\n",
            "    the documentation of this function for further details.\n",
            "\n",
            "    The scikit-learn maintainers therefore strongly discourage the use of this\n",
            "    dataset unless the purpose of the code is to study and educate about\n",
            "    ethical issues in data science and machine learning.\n",
            "\n",
            "    In this case special case, you can fetch the dataset from the original\n",
            "    source::\n",
            "\n",
            "        import pandas as pd\n",
            "        import numpy as np\n",
            "\n",
            "\n",
            "        data_url = \"http://lib.stat.cmu.edu/datasets/boston\"\n",
            "        raw_df = pd.read_csv(data_url, sep=\"\\s+\", skiprows=22, header=None)\n",
            "        data = np.hstack([raw_df.values[::2, :], raw_df.values[1::2, :2]])\n",
            "        target = raw_df.values[1::2, 2]\n",
            "\n",
            "    Alternative datasets include the California housing dataset (i.e.\n",
            "    func:`~sklearn.datasets.fetch_california_housing`) and the Ames housing\n",
            "    dataset. You can load the datasets as follows:\n",
            "\n",
            "        from sklearn.datasets import fetch_california_housing\n",
            "        housing = fetch_california_housing()\n",
            "\n",
            "    for the California housing dataset and:\n",
            "\n",
            "        from sklearn.datasets import fetch_openml\n",
            "        housing = fetch_openml(name=\"house_prices\", as_frame=True)\n",
            "\n",
            "    for the Ames housing dataset.\n",
            "    \n",
            "  warnings.warn(msg, category=FutureWarning)\n"
          ]
        }
      ],
      "source": [
        "# 公開データセット（ボストンの住宅価格）を読み込む\n",
        "import pandas as pd\n",
        "from sklearn.datasets import load_boston\n",
        "boston = load_boston()"
      ]
    },
    {
      "cell_type": "code",
      "execution_count": 3,
      "metadata": {
        "id": "dwGW7XWqR59S"
      },
      "outputs": [
        {
          "data": {
            "text/plain": [
              "(506, 13)"
            ]
          },
          "execution_count": 3,
          "metadata": {},
          "output_type": "execute_result"
        }
      ],
      "source": [
        "# データの形状を表示\n",
        "boston.data.shape"
      ]
    },
    {
      "cell_type": "code",
      "execution_count": 4,
      "metadata": {
        "id": "byiBR1BER6c1"
      },
      "outputs": [
        {
          "data": {
            "text/plain": [
              "(506,)"
            ]
          },
          "execution_count": 4,
          "metadata": {},
          "output_type": "execute_result"
        }
      ],
      "source": [
        "# ターゲット（住宅価格）の形状を表示\n",
        "boston.target.shape"
      ]
    },
    {
      "cell_type": "code",
      "execution_count": 5,
      "metadata": {
        "id": "5bbxFGC6jf60"
      },
      "outputs": [
        {
          "data": {
            "text/html": [
              "<div>\n",
              "<style scoped>\n",
              "    .dataframe tbody tr th:only-of-type {\n",
              "        vertical-align: middle;\n",
              "    }\n",
              "\n",
              "    .dataframe tbody tr th {\n",
              "        vertical-align: top;\n",
              "    }\n",
              "\n",
              "    .dataframe thead th {\n",
              "        text-align: right;\n",
              "    }\n",
              "</style>\n",
              "<table border=\"1\" class=\"dataframe\">\n",
              "  <thead>\n",
              "    <tr style=\"text-align: right;\">\n",
              "      <th></th>\n",
              "      <th>CRIM</th>\n",
              "      <th>ZN</th>\n",
              "      <th>INDUS</th>\n",
              "      <th>CHAS</th>\n",
              "      <th>NOX</th>\n",
              "      <th>RM</th>\n",
              "      <th>AGE</th>\n",
              "      <th>DIS</th>\n",
              "      <th>RAD</th>\n",
              "      <th>TAX</th>\n",
              "      <th>PTRATIO</th>\n",
              "      <th>B</th>\n",
              "      <th>LSTAT</th>\n",
              "    </tr>\n",
              "  </thead>\n",
              "  <tbody>\n",
              "    <tr>\n",
              "      <th>0</th>\n",
              "      <td>0.00632</td>\n",
              "      <td>18.0</td>\n",
              "      <td>2.31</td>\n",
              "      <td>0.0</td>\n",
              "      <td>0.538</td>\n",
              "      <td>6.575</td>\n",
              "      <td>65.2</td>\n",
              "      <td>4.0900</td>\n",
              "      <td>1.0</td>\n",
              "      <td>296.0</td>\n",
              "      <td>15.3</td>\n",
              "      <td>396.90</td>\n",
              "      <td>4.98</td>\n",
              "    </tr>\n",
              "    <tr>\n",
              "      <th>1</th>\n",
              "      <td>0.02731</td>\n",
              "      <td>0.0</td>\n",
              "      <td>7.07</td>\n",
              "      <td>0.0</td>\n",
              "      <td>0.469</td>\n",
              "      <td>6.421</td>\n",
              "      <td>78.9</td>\n",
              "      <td>4.9671</td>\n",
              "      <td>2.0</td>\n",
              "      <td>242.0</td>\n",
              "      <td>17.8</td>\n",
              "      <td>396.90</td>\n",
              "      <td>9.14</td>\n",
              "    </tr>\n",
              "    <tr>\n",
              "      <th>2</th>\n",
              "      <td>0.02729</td>\n",
              "      <td>0.0</td>\n",
              "      <td>7.07</td>\n",
              "      <td>0.0</td>\n",
              "      <td>0.469</td>\n",
              "      <td>7.185</td>\n",
              "      <td>61.1</td>\n",
              "      <td>4.9671</td>\n",
              "      <td>2.0</td>\n",
              "      <td>242.0</td>\n",
              "      <td>17.8</td>\n",
              "      <td>392.83</td>\n",
              "      <td>4.03</td>\n",
              "    </tr>\n",
              "    <tr>\n",
              "      <th>3</th>\n",
              "      <td>0.03237</td>\n",
              "      <td>0.0</td>\n",
              "      <td>2.18</td>\n",
              "      <td>0.0</td>\n",
              "      <td>0.458</td>\n",
              "      <td>6.998</td>\n",
              "      <td>45.8</td>\n",
              "      <td>6.0622</td>\n",
              "      <td>3.0</td>\n",
              "      <td>222.0</td>\n",
              "      <td>18.7</td>\n",
              "      <td>394.63</td>\n",
              "      <td>2.94</td>\n",
              "    </tr>\n",
              "    <tr>\n",
              "      <th>4</th>\n",
              "      <td>0.06905</td>\n",
              "      <td>0.0</td>\n",
              "      <td>2.18</td>\n",
              "      <td>0.0</td>\n",
              "      <td>0.458</td>\n",
              "      <td>7.147</td>\n",
              "      <td>54.2</td>\n",
              "      <td>6.0622</td>\n",
              "      <td>3.0</td>\n",
              "      <td>222.0</td>\n",
              "      <td>18.7</td>\n",
              "      <td>396.90</td>\n",
              "      <td>5.33</td>\n",
              "    </tr>\n",
              "  </tbody>\n",
              "</table>\n",
              "</div>"
            ],
            "text/plain": [
              "      CRIM    ZN  INDUS  CHAS    NOX     RM   AGE     DIS  RAD    TAX  \\\n",
              "0  0.00632  18.0   2.31   0.0  0.538  6.575  65.2  4.0900  1.0  296.0   \n",
              "1  0.02731   0.0   7.07   0.0  0.469  6.421  78.9  4.9671  2.0  242.0   \n",
              "2  0.02729   0.0   7.07   0.0  0.469  7.185  61.1  4.9671  2.0  242.0   \n",
              "3  0.03237   0.0   2.18   0.0  0.458  6.998  45.8  6.0622  3.0  222.0   \n",
              "4  0.06905   0.0   2.18   0.0  0.458  7.147  54.2  6.0622  3.0  222.0   \n",
              "\n",
              "   PTRATIO       B  LSTAT  \n",
              "0     15.3  396.90   4.98  \n",
              "1     17.8  396.90   9.14  \n",
              "2     17.8  392.83   4.03  \n",
              "3     18.7  394.63   2.94  \n",
              "4     18.7  396.90   5.33  "
            ]
          },
          "execution_count": 5,
          "metadata": {},
          "output_type": "execute_result"
        }
      ],
      "source": [
        "# データの最初だけ表示（pandas利用）\n",
        "df = pd.DataFrame(boston.data, columns=boston.feature_names)\n",
        "df.head()"
      ]
    },
    {
      "cell_type": "markdown",
      "metadata": {
        "id": "4j-QViK_krrF"
      },
      "source": [
        "# 正規化\n",
        "scikit-learnという機械学習用のライブラリを用いて正規化（各特徴値を-1から1の範囲に合わせる）\n",
        "\n",
        "標準化に比べると異常値の値に影響を受けやすい\n",
        "\n",
        "https://scikit-learn.org/stable/modules/generated/sklearn.preprocessing.MinMaxScaler.html\n",
        "\n",
        "MinMaxScalerのAPIドキュメント。既存の関数を使ったプログラミングでは、APIドキュメントがその関数の仕様書になります。引数や関数の意味を理解するのに重要です。参考にしてください。やりたい事を実現する際や、既存のコードを理解する際の助けになります。"
      ]
    },
    {
      "cell_type": "code",
      "execution_count": 6,
      "metadata": {
        "id": "cf9cUcfRjg6e"
      },
      "outputs": [],
      "source": [
        "from sklearn.preprocessing import MinMaxScaler\n",
        "scaler = MinMaxScaler([-1,1])\n",
        "scaler.fit(boston.data)\n",
        "boston.data = scaler.transform(boston.data)"
      ]
    },
    {
      "cell_type": "code",
      "execution_count": 7,
      "metadata": {
        "id": "i0wCP9aRk-E_"
      },
      "outputs": [
        {
          "data": {
            "text/html": [
              "<div>\n",
              "<style scoped>\n",
              "    .dataframe tbody tr th:only-of-type {\n",
              "        vertical-align: middle;\n",
              "    }\n",
              "\n",
              "    .dataframe tbody tr th {\n",
              "        vertical-align: top;\n",
              "    }\n",
              "\n",
              "    .dataframe thead th {\n",
              "        text-align: right;\n",
              "    }\n",
              "</style>\n",
              "<table border=\"1\" class=\"dataframe\">\n",
              "  <thead>\n",
              "    <tr style=\"text-align: right;\">\n",
              "      <th></th>\n",
              "      <th>CRIM</th>\n",
              "      <th>ZN</th>\n",
              "      <th>INDUS</th>\n",
              "      <th>CHAS</th>\n",
              "      <th>NOX</th>\n",
              "      <th>RM</th>\n",
              "      <th>AGE</th>\n",
              "      <th>DIS</th>\n",
              "      <th>RAD</th>\n",
              "      <th>TAX</th>\n",
              "      <th>PTRATIO</th>\n",
              "      <th>B</th>\n",
              "      <th>LSTAT</th>\n",
              "    </tr>\n",
              "  </thead>\n",
              "  <tbody>\n",
              "    <tr>\n",
              "      <th>0</th>\n",
              "      <td>-1.000000</td>\n",
              "      <td>-0.64</td>\n",
              "      <td>-0.864370</td>\n",
              "      <td>-1.0</td>\n",
              "      <td>-0.370370</td>\n",
              "      <td>0.155011</td>\n",
              "      <td>0.283213</td>\n",
              "      <td>-0.461594</td>\n",
              "      <td>-1.000000</td>\n",
              "      <td>-0.583969</td>\n",
              "      <td>-0.425532</td>\n",
              "      <td>1.000000</td>\n",
              "      <td>-0.820640</td>\n",
              "    </tr>\n",
              "    <tr>\n",
              "      <th>1</th>\n",
              "      <td>-0.999528</td>\n",
              "      <td>-1.00</td>\n",
              "      <td>-0.515396</td>\n",
              "      <td>-1.0</td>\n",
              "      <td>-0.654321</td>\n",
              "      <td>0.095995</td>\n",
              "      <td>0.565396</td>\n",
              "      <td>-0.302076</td>\n",
              "      <td>-0.913043</td>\n",
              "      <td>-0.790076</td>\n",
              "      <td>0.106383</td>\n",
              "      <td>1.000000</td>\n",
              "      <td>-0.591060</td>\n",
              "    </tr>\n",
              "    <tr>\n",
              "      <th>2</th>\n",
              "      <td>-0.999529</td>\n",
              "      <td>-1.00</td>\n",
              "      <td>-0.515396</td>\n",
              "      <td>-1.0</td>\n",
              "      <td>-0.654321</td>\n",
              "      <td>0.388772</td>\n",
              "      <td>0.198764</td>\n",
              "      <td>-0.302076</td>\n",
              "      <td>-0.913043</td>\n",
              "      <td>-0.790076</td>\n",
              "      <td>0.106383</td>\n",
              "      <td>0.979475</td>\n",
              "      <td>-0.873068</td>\n",
              "    </tr>\n",
              "    <tr>\n",
              "      <th>3</th>\n",
              "      <td>-0.999414</td>\n",
              "      <td>-1.00</td>\n",
              "      <td>-0.873900</td>\n",
              "      <td>-1.0</td>\n",
              "      <td>-0.699588</td>\n",
              "      <td>0.317111</td>\n",
              "      <td>-0.116375</td>\n",
              "      <td>-0.102911</td>\n",
              "      <td>-0.826087</td>\n",
              "      <td>-0.866412</td>\n",
              "      <td>0.297872</td>\n",
              "      <td>0.988552</td>\n",
              "      <td>-0.933223</td>\n",
              "    </tr>\n",
              "    <tr>\n",
              "      <th>4</th>\n",
              "      <td>-0.998590</td>\n",
              "      <td>-1.00</td>\n",
              "      <td>-0.873900</td>\n",
              "      <td>-1.0</td>\n",
              "      <td>-0.699588</td>\n",
              "      <td>0.374210</td>\n",
              "      <td>0.056643</td>\n",
              "      <td>-0.102911</td>\n",
              "      <td>-0.826087</td>\n",
              "      <td>-0.866412</td>\n",
              "      <td>0.297872</td>\n",
              "      <td>1.000000</td>\n",
              "      <td>-0.801325</td>\n",
              "    </tr>\n",
              "  </tbody>\n",
              "</table>\n",
              "</div>"
            ],
            "text/plain": [
              "       CRIM    ZN     INDUS  CHAS       NOX        RM       AGE       DIS  \\\n",
              "0 -1.000000 -0.64 -0.864370  -1.0 -0.370370  0.155011  0.283213 -0.461594   \n",
              "1 -0.999528 -1.00 -0.515396  -1.0 -0.654321  0.095995  0.565396 -0.302076   \n",
              "2 -0.999529 -1.00 -0.515396  -1.0 -0.654321  0.388772  0.198764 -0.302076   \n",
              "3 -0.999414 -1.00 -0.873900  -1.0 -0.699588  0.317111 -0.116375 -0.102911   \n",
              "4 -0.998590 -1.00 -0.873900  -1.0 -0.699588  0.374210  0.056643 -0.102911   \n",
              "\n",
              "        RAD       TAX   PTRATIO         B     LSTAT  \n",
              "0 -1.000000 -0.583969 -0.425532  1.000000 -0.820640  \n",
              "1 -0.913043 -0.790076  0.106383  1.000000 -0.591060  \n",
              "2 -0.913043 -0.790076  0.106383  0.979475 -0.873068  \n",
              "3 -0.826087 -0.866412  0.297872  0.988552 -0.933223  \n",
              "4 -0.826087 -0.866412  0.297872  1.000000 -0.801325  "
            ]
          },
          "execution_count": 7,
          "metadata": {},
          "output_type": "execute_result"
        }
      ],
      "source": [
        "# 正規化後を表示\n",
        "df = pd.DataFrame(boston.data, columns=boston.feature_names)\n",
        "df.head()"
      ]
    },
    {
      "cell_type": "markdown",
      "metadata": {
        "id": "3CJl8-OylO7E"
      },
      "source": [
        "# 距離計算"
      ]
    },
    {
      "cell_type": "markdown",
      "metadata": {
        "id": "cgyBB9danK9h"
      },
      "source": [
        "特徴のベクトル間の距離を計算する関数を実装してみよう\n",
        "\n",
        "参考\n",
        "https://docs.python.org/ja/3/library/math.html"
      ]
    },
    {
      "cell_type": "code",
      "execution_count": 8,
      "metadata": {
        "cellView": "both",
        "id": "NnBnvqhSlMGa"
      },
      "outputs": [
        {
          "data": {
            "text/plain": [
              "0"
            ]
          },
          "execution_count": 8,
          "metadata": {},
          "output_type": "execute_result"
        }
      ],
      "source": [
        "def CalcEuclideanDistance(vec1, vec2):\n",
        "  # ユークリッド距離の計算を実装してみよう\n",
        "  return 0 #計算した距離を返すよう実装\n",
        "\n",
        "# データのインデックスを渡すと距離を計算してくれる関数（デフォルトでユークリッド距離を使う）\n",
        "def CalcDist(data, idx1, idx2, f_distance=CalcEuclideanDistance): \n",
        "  vec1 = data[idx1, :]\n",
        "  vec2 = data[idx2, :]\n",
        "  return f_distance(vec1, vec2)\n",
        "\n",
        "CalcDist(boston.data, 0, 1)"
      ]
    },
    {
      "cell_type": "markdown",
      "metadata": {
        "id": "wQ2WknAVFpFa"
      },
      "source": [
        "# 動作確認"
      ]
    },
    {
      "cell_type": "code",
      "execution_count": 9,
      "metadata": {
        "id": "CiZEMaqrFsKT"
      },
      "outputs": [
        {
          "ename": "NameError",
          "evalue": "name 'np' is not defined",
          "output_type": "error",
          "traceback": [
            "\u001b[0;31m---------------------------------------------------------------------------\u001b[0m",
            "\u001b[0;31mNameError\u001b[0m                                 Traceback (most recent call last)",
            "\u001b[0;32m/var/folders/m0/k2ybt6nd3kl08qkw0tnxshkr0000gn/T/ipykernel_39346/3815474527.py\u001b[0m in \u001b[0;36m<module>\u001b[0;34m\u001b[0m\n\u001b[0;32m----> 1\u001b[0;31m \u001b[0mvec1\u001b[0m \u001b[0;34m=\u001b[0m \u001b[0mnp\u001b[0m\u001b[0;34m.\u001b[0m\u001b[0marray\u001b[0m\u001b[0;34m(\u001b[0m\u001b[0;34m[\u001b[0m\u001b[0;36m1\u001b[0m\u001b[0;34m,\u001b[0m \u001b[0;36m1\u001b[0m\u001b[0;34m]\u001b[0m\u001b[0;34m)\u001b[0m\u001b[0;34m\u001b[0m\u001b[0;34m\u001b[0m\u001b[0m\n\u001b[0m\u001b[1;32m      2\u001b[0m \u001b[0mvec2\u001b[0m \u001b[0;34m=\u001b[0m \u001b[0mnp\u001b[0m\u001b[0;34m.\u001b[0m\u001b[0marray\u001b[0m\u001b[0;34m(\u001b[0m\u001b[0;34m[\u001b[0m\u001b[0;36m1\u001b[0m\u001b[0;34m,\u001b[0m \u001b[0;36m2\u001b[0m\u001b[0;34m]\u001b[0m\u001b[0;34m)\u001b[0m\u001b[0;34m\u001b[0m\u001b[0;34m\u001b[0m\u001b[0m\n\u001b[1;32m      3\u001b[0m \u001b[0mCalcEuclideanDistance\u001b[0m\u001b[0;34m(\u001b[0m\u001b[0mvec1\u001b[0m\u001b[0;34m,\u001b[0m \u001b[0mvec2\u001b[0m\u001b[0;34m)\u001b[0m \u001b[0;31m#距離は1になるはず\u001b[0m\u001b[0;34m\u001b[0m\u001b[0;34m\u001b[0m\u001b[0m\n",
            "\u001b[0;31mNameError\u001b[0m: name 'np' is not defined"
          ]
        }
      ],
      "source": [
        "vec1 = np.array([1, 1])\n",
        "vec2 = np.array([1, 2])\n",
        "CalcEuclideanDistance(vec1, vec2) #距離は1になるはず"
      ]
    },
    {
      "cell_type": "code",
      "execution_count": null,
      "metadata": {
        "id": "F7VcRA_UFuva"
      },
      "outputs": [],
      "source": [
        "vec1 = np.array([3, 2])\n",
        "vec2 = np.array([1, 6])\n",
        "CalcEuclideanDistance(vec1, vec2) #手計算と同じになるか確認してみよう"
      ]
    },
    {
      "cell_type": "markdown",
      "metadata": {
        "id": "o7SmJUS1zkQT"
      },
      "source": [
        "色々な家間で距離を計算してみて、距離と価格を表示してみよう。\n",
        "\n",
        "完成したら実行して、このページをPDFにプリントして、CLEから提出"
      ]
    },
    {
      "cell_type": "code",
      "execution_count": null,
      "metadata": {
        "id": "6FI2r6dHmQ-D"
      },
      "outputs": [],
      "source": [
        "# 家の情報表示する関数\n",
        "def print_house_info(data, target, idx):\n",
        "  print('インデックス：', idx)\n",
        "  print('属性：', data[idx,:])\n",
        "  print('価格：', target[idx])"
      ]
    },
    {
      "cell_type": "code",
      "execution_count": null,
      "metadata": {
        "id": "ix94z1fToVaI"
      },
      "outputs": [],
      "source": [
        "idx1 = 100\n",
        "idx2 = 200\n",
        "# 距離を計算してみる\n",
        "# 家の属性情報を表示してみる"
      ]
    },
    {
      "cell_type": "markdown",
      "metadata": {
        "id": "LkGDkVmEh94T"
      },
      "source": [
        "# やってみよう\n",
        "scikit-learnには正規化以外にも標準化を行う機能も用意されている。Bostonデータを標準化してみよう。まだ、距離計算も実行してみよう。\n",
        "\n",
        "https://scikit-learn.org/stable/modules/generated/sklearn.preprocessing.StandardScaler.html"
      ]
    },
    {
      "cell_type": "code",
      "execution_count": null,
      "metadata": {
        "id": "b5sOjpVyiK-4"
      },
      "outputs": [],
      "source": [
        "# ボストンデータを再度読み出す必要あり（上で既に正規化をしてしまったため）\n"
      ]
    }
  ],
  "metadata": {
    "colab": {
      "collapsed_sections": [],
      "name": "3.距離計算.ipynb",
      "provenance": []
    },
    "interpreter": {
      "hash": "aee8b7b246df8f9039afb4144a1f6fd8d2ca17a180786b69acc140d282b71a49"
    },
    "kernelspec": {
      "display_name": "Python 3.9.7 64-bit",
      "name": "python3"
    },
    "language_info": {
      "codemirror_mode": {
        "name": "ipython",
        "version": 3
      },
      "file_extension": ".py",
      "mimetype": "text/x-python",
      "name": "python",
      "nbconvert_exporter": "python",
      "pygments_lexer": "ipython3",
      "version": "3.9.7"
    }
  },
  "nbformat": 4,
  "nbformat_minor": 0
}
