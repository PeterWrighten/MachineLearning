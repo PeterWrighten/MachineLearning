{
  "nbformat": 4,
  "nbformat_minor": 0,
  "metadata": {
    "colab": {
      "name": "3.距離計算.ipynb",
      "provenance": [],
      "collapsed_sections": []
    },
    "interpreter": {
      "hash": "aee8b7b246df8f9039afb4144a1f6fd8d2ca17a180786b69acc140d282b71a49"
    },
    "kernelspec": {
      "display_name": "Python 3.9.7 64-bit",
      "name": "python3"
    },
    "language_info": {
      "codemirror_mode": {
        "name": "ipython",
        "version": 3
      },
      "file_extension": ".py",
      "mimetype": "text/x-python",
      "name": "python",
      "nbconvert_exporter": "python",
      "pygments_lexer": "ipython3",
      "version": "3.9.7"
    }
  },
  "cells": [
    {
      "cell_type": "markdown",
      "metadata": {
        "id": "HpJNI2uWRttb"
      },
      "source": [
        "# データの読み出し"
      ]
    },
    {
      "cell_type": "code",
      "metadata": {
        "id": "ydaz2H5TRigU"
      },
      "source": [
        "# 公開データセット（ボストンの住宅価格）を読み込む\n",
        "import pandas as pd\n",
        "from sklearn.datasets import load_boston\n",
        "boston = load_boston()"
      ],
      "execution_count": 35,
      "outputs": []
    },
    {
      "cell_type": "code",
      "metadata": {
        "id": "dwGW7XWqR59S",
        "outputId": "90fe5fe3-6374-4687-ebcc-9cfe2834df8f",
        "colab": {
          "base_uri": "https://localhost:8080/",
          "height": 0
        }
      },
      "source": [
        "# データの形状を表示\n",
        "boston.data.shape"
      ],
      "execution_count": 36,
      "outputs": [
        {
          "output_type": "execute_result",
          "data": {
            "text/plain": [
              "(506, 13)"
            ]
          },
          "metadata": {},
          "execution_count": 36
        }
      ]
    },
    {
      "cell_type": "code",
      "metadata": {
        "id": "byiBR1BER6c1",
        "outputId": "12e68337-1b36-4540-92e7-7b3b29ab5bad",
        "colab": {
          "base_uri": "https://localhost:8080/",
          "height": 0
        }
      },
      "source": [
        "# ターゲット（住宅価格）の形状を表示\n",
        "boston.target.shape"
      ],
      "execution_count": 37,
      "outputs": [
        {
          "output_type": "execute_result",
          "data": {
            "text/plain": [
              "(506,)"
            ]
          },
          "metadata": {},
          "execution_count": 37
        }
      ]
    },
    {
      "cell_type": "code",
      "metadata": {
        "id": "5bbxFGC6jf60",
        "outputId": "c2dff695-e092-42fb-b411-59ee28daad3e",
        "colab": {
          "base_uri": "https://localhost:8080/",
          "height": 204
        }
      },
      "source": [
        "# データの最初だけ表示（pandas利用）\n",
        "df = pd.DataFrame(boston.data, columns=boston.feature_names)\n",
        "df.head()"
      ],
      "execution_count": 38,
      "outputs": [
        {
          "output_type": "execute_result",
          "data": {
            "text/html": [
              "<div>\n",
              "<style scoped>\n",
              "    .dataframe tbody tr th:only-of-type {\n",
              "        vertical-align: middle;\n",
              "    }\n",
              "\n",
              "    .dataframe tbody tr th {\n",
              "        vertical-align: top;\n",
              "    }\n",
              "\n",
              "    .dataframe thead th {\n",
              "        text-align: right;\n",
              "    }\n",
              "</style>\n",
              "<table border=\"1\" class=\"dataframe\">\n",
              "  <thead>\n",
              "    <tr style=\"text-align: right;\">\n",
              "      <th></th>\n",
              "      <th>CRIM</th>\n",
              "      <th>ZN</th>\n",
              "      <th>INDUS</th>\n",
              "      <th>CHAS</th>\n",
              "      <th>NOX</th>\n",
              "      <th>RM</th>\n",
              "      <th>AGE</th>\n",
              "      <th>DIS</th>\n",
              "      <th>RAD</th>\n",
              "      <th>TAX</th>\n",
              "      <th>PTRATIO</th>\n",
              "      <th>B</th>\n",
              "      <th>LSTAT</th>\n",
              "    </tr>\n",
              "  </thead>\n",
              "  <tbody>\n",
              "    <tr>\n",
              "      <th>0</th>\n",
              "      <td>0.00632</td>\n",
              "      <td>18.0</td>\n",
              "      <td>2.31</td>\n",
              "      <td>0.0</td>\n",
              "      <td>0.538</td>\n",
              "      <td>6.575</td>\n",
              "      <td>65.2</td>\n",
              "      <td>4.0900</td>\n",
              "      <td>1.0</td>\n",
              "      <td>296.0</td>\n",
              "      <td>15.3</td>\n",
              "      <td>396.90</td>\n",
              "      <td>4.98</td>\n",
              "    </tr>\n",
              "    <tr>\n",
              "      <th>1</th>\n",
              "      <td>0.02731</td>\n",
              "      <td>0.0</td>\n",
              "      <td>7.07</td>\n",
              "      <td>0.0</td>\n",
              "      <td>0.469</td>\n",
              "      <td>6.421</td>\n",
              "      <td>78.9</td>\n",
              "      <td>4.9671</td>\n",
              "      <td>2.0</td>\n",
              "      <td>242.0</td>\n",
              "      <td>17.8</td>\n",
              "      <td>396.90</td>\n",
              "      <td>9.14</td>\n",
              "    </tr>\n",
              "    <tr>\n",
              "      <th>2</th>\n",
              "      <td>0.02729</td>\n",
              "      <td>0.0</td>\n",
              "      <td>7.07</td>\n",
              "      <td>0.0</td>\n",
              "      <td>0.469</td>\n",
              "      <td>7.185</td>\n",
              "      <td>61.1</td>\n",
              "      <td>4.9671</td>\n",
              "      <td>2.0</td>\n",
              "      <td>242.0</td>\n",
              "      <td>17.8</td>\n",
              "      <td>392.83</td>\n",
              "      <td>4.03</td>\n",
              "    </tr>\n",
              "    <tr>\n",
              "      <th>3</th>\n",
              "      <td>0.03237</td>\n",
              "      <td>0.0</td>\n",
              "      <td>2.18</td>\n",
              "      <td>0.0</td>\n",
              "      <td>0.458</td>\n",
              "      <td>6.998</td>\n",
              "      <td>45.8</td>\n",
              "      <td>6.0622</td>\n",
              "      <td>3.0</td>\n",
              "      <td>222.0</td>\n",
              "      <td>18.7</td>\n",
              "      <td>394.63</td>\n",
              "      <td>2.94</td>\n",
              "    </tr>\n",
              "    <tr>\n",
              "      <th>4</th>\n",
              "      <td>0.06905</td>\n",
              "      <td>0.0</td>\n",
              "      <td>2.18</td>\n",
              "      <td>0.0</td>\n",
              "      <td>0.458</td>\n",
              "      <td>7.147</td>\n",
              "      <td>54.2</td>\n",
              "      <td>6.0622</td>\n",
              "      <td>3.0</td>\n",
              "      <td>222.0</td>\n",
              "      <td>18.7</td>\n",
              "      <td>396.90</td>\n",
              "      <td>5.33</td>\n",
              "    </tr>\n",
              "  </tbody>\n",
              "</table>\n",
              "</div>"
            ],
            "text/plain": [
              "      CRIM    ZN  INDUS  CHAS    NOX  ...  RAD    TAX  PTRATIO       B  LSTAT\n",
              "0  0.00632  18.0   2.31   0.0  0.538  ...  1.0  296.0     15.3  396.90   4.98\n",
              "1  0.02731   0.0   7.07   0.0  0.469  ...  2.0  242.0     17.8  396.90   9.14\n",
              "2  0.02729   0.0   7.07   0.0  0.469  ...  2.0  242.0     17.8  392.83   4.03\n",
              "3  0.03237   0.0   2.18   0.0  0.458  ...  3.0  222.0     18.7  394.63   2.94\n",
              "4  0.06905   0.0   2.18   0.0  0.458  ...  3.0  222.0     18.7  396.90   5.33\n",
              "\n",
              "[5 rows x 13 columns]"
            ]
          },
          "metadata": {},
          "execution_count": 38
        }
      ]
    },
    {
      "cell_type": "markdown",
      "metadata": {
        "id": "4j-QViK_krrF"
      },
      "source": [
        "# 正規化\n",
        "scikit-learnという機械学習用のライブラリを用いて正規化（各特徴値を-1から1の範囲に合わせる）\n",
        "\n",
        "標準化に比べると異常値の値に影響を受けやすい\n",
        "\n",
        "https://scikit-learn.org/stable/modules/generated/sklearn.preprocessing.MinMaxScaler.html\n",
        "\n",
        "MinMaxScalerのAPIドキュメント。既存の関数を使ったプログラミングでは、APIドキュメントがその関数の仕様書になります。引数や関数の意味を理解するのに重要です。参考にしてください。やりたい事を実現する際や、既存のコードを理解する際の助けになります。"
      ]
    },
    {
      "cell_type": "code",
      "metadata": {
        "id": "cf9cUcfRjg6e"
      },
      "source": [
        "from sklearn.preprocessing import MinMaxScaler\n",
        "scaler = MinMaxScaler([-1,1])\n",
        "scaler.fit(boston.data)\n",
        "boston.data = scaler.transform(boston.data)"
      ],
      "execution_count": 39,
      "outputs": []
    },
    {
      "cell_type": "code",
      "metadata": {
        "id": "i0wCP9aRk-E_",
        "outputId": "837ccdbc-fd82-4e0d-cae5-7092a3a83011",
        "colab": {
          "base_uri": "https://localhost:8080/",
          "height": 204
        }
      },
      "source": [
        "# 正規化後を表示\n",
        "df = pd.DataFrame(boston.data, columns=boston.feature_names)\n",
        "df.head()"
      ],
      "execution_count": 40,
      "outputs": [
        {
          "output_type": "execute_result",
          "data": {
            "text/html": [
              "<div>\n",
              "<style scoped>\n",
              "    .dataframe tbody tr th:only-of-type {\n",
              "        vertical-align: middle;\n",
              "    }\n",
              "\n",
              "    .dataframe tbody tr th {\n",
              "        vertical-align: top;\n",
              "    }\n",
              "\n",
              "    .dataframe thead th {\n",
              "        text-align: right;\n",
              "    }\n",
              "</style>\n",
              "<table border=\"1\" class=\"dataframe\">\n",
              "  <thead>\n",
              "    <tr style=\"text-align: right;\">\n",
              "      <th></th>\n",
              "      <th>CRIM</th>\n",
              "      <th>ZN</th>\n",
              "      <th>INDUS</th>\n",
              "      <th>CHAS</th>\n",
              "      <th>NOX</th>\n",
              "      <th>RM</th>\n",
              "      <th>AGE</th>\n",
              "      <th>DIS</th>\n",
              "      <th>RAD</th>\n",
              "      <th>TAX</th>\n",
              "      <th>PTRATIO</th>\n",
              "      <th>B</th>\n",
              "      <th>LSTAT</th>\n",
              "    </tr>\n",
              "  </thead>\n",
              "  <tbody>\n",
              "    <tr>\n",
              "      <th>0</th>\n",
              "      <td>-1.000000</td>\n",
              "      <td>-0.64</td>\n",
              "      <td>-0.864370</td>\n",
              "      <td>-1.0</td>\n",
              "      <td>-0.370370</td>\n",
              "      <td>0.155011</td>\n",
              "      <td>0.283213</td>\n",
              "      <td>-0.461594</td>\n",
              "      <td>-1.000000</td>\n",
              "      <td>-0.583969</td>\n",
              "      <td>-0.425532</td>\n",
              "      <td>1.000000</td>\n",
              "      <td>-0.820640</td>\n",
              "    </tr>\n",
              "    <tr>\n",
              "      <th>1</th>\n",
              "      <td>-0.999528</td>\n",
              "      <td>-1.00</td>\n",
              "      <td>-0.515396</td>\n",
              "      <td>-1.0</td>\n",
              "      <td>-0.654321</td>\n",
              "      <td>0.095995</td>\n",
              "      <td>0.565396</td>\n",
              "      <td>-0.302076</td>\n",
              "      <td>-0.913043</td>\n",
              "      <td>-0.790076</td>\n",
              "      <td>0.106383</td>\n",
              "      <td>1.000000</td>\n",
              "      <td>-0.591060</td>\n",
              "    </tr>\n",
              "    <tr>\n",
              "      <th>2</th>\n",
              "      <td>-0.999529</td>\n",
              "      <td>-1.00</td>\n",
              "      <td>-0.515396</td>\n",
              "      <td>-1.0</td>\n",
              "      <td>-0.654321</td>\n",
              "      <td>0.388772</td>\n",
              "      <td>0.198764</td>\n",
              "      <td>-0.302076</td>\n",
              "      <td>-0.913043</td>\n",
              "      <td>-0.790076</td>\n",
              "      <td>0.106383</td>\n",
              "      <td>0.979475</td>\n",
              "      <td>-0.873068</td>\n",
              "    </tr>\n",
              "    <tr>\n",
              "      <th>3</th>\n",
              "      <td>-0.999414</td>\n",
              "      <td>-1.00</td>\n",
              "      <td>-0.873900</td>\n",
              "      <td>-1.0</td>\n",
              "      <td>-0.699588</td>\n",
              "      <td>0.317111</td>\n",
              "      <td>-0.116375</td>\n",
              "      <td>-0.102911</td>\n",
              "      <td>-0.826087</td>\n",
              "      <td>-0.866412</td>\n",
              "      <td>0.297872</td>\n",
              "      <td>0.988552</td>\n",
              "      <td>-0.933223</td>\n",
              "    </tr>\n",
              "    <tr>\n",
              "      <th>4</th>\n",
              "      <td>-0.998590</td>\n",
              "      <td>-1.00</td>\n",
              "      <td>-0.873900</td>\n",
              "      <td>-1.0</td>\n",
              "      <td>-0.699588</td>\n",
              "      <td>0.374210</td>\n",
              "      <td>0.056643</td>\n",
              "      <td>-0.102911</td>\n",
              "      <td>-0.826087</td>\n",
              "      <td>-0.866412</td>\n",
              "      <td>0.297872</td>\n",
              "      <td>1.000000</td>\n",
              "      <td>-0.801325</td>\n",
              "    </tr>\n",
              "  </tbody>\n",
              "</table>\n",
              "</div>"
            ],
            "text/plain": [
              "       CRIM    ZN     INDUS  CHAS  ...       TAX   PTRATIO         B     LSTAT\n",
              "0 -1.000000 -0.64 -0.864370  -1.0  ... -0.583969 -0.425532  1.000000 -0.820640\n",
              "1 -0.999528 -1.00 -0.515396  -1.0  ... -0.790076  0.106383  1.000000 -0.591060\n",
              "2 -0.999529 -1.00 -0.515396  -1.0  ... -0.790076  0.106383  0.979475 -0.873068\n",
              "3 -0.999414 -1.00 -0.873900  -1.0  ... -0.866412  0.297872  0.988552 -0.933223\n",
              "4 -0.998590 -1.00 -0.873900  -1.0  ... -0.866412  0.297872  1.000000 -0.801325\n",
              "\n",
              "[5 rows x 13 columns]"
            ]
          },
          "metadata": {},
          "execution_count": 40
        }
      ]
    },
    {
      "cell_type": "markdown",
      "metadata": {
        "id": "3CJl8-OylO7E"
      },
      "source": [
        "# 距離計算"
      ]
    },
    {
      "cell_type": "markdown",
      "metadata": {
        "id": "cgyBB9danK9h"
      },
      "source": [
        "特徴のベクトル間の距離を計算する関数を実装してみよう\n",
        "\n",
        "参考\n",
        "https://docs.python.org/ja/3/library/math.html"
      ]
    },
    {
      "cell_type": "code",
      "metadata": {
        "cellView": "both",
        "id": "NnBnvqhSlMGa",
        "outputId": "e2b8efcb-f37d-49d7-9c50-8d69e86219b4",
        "colab": {
          "base_uri": "https://localhost:8080/",
          "height": 0
        }
      },
      "source": [
        "import numpy as np\n",
        "def CalcEuclideanDistance(vec1, vec2):\n",
        "  # ユークリッド距離の計算を実装してみよう\n",
        "  return np.sqrt(np.sum(np.square(vec1-vec2)))#計算した距離を返すよう実装\n",
        "\n",
        "# データのインデックスを渡すと距離を計算してくれる関数（デフォルトでユークリッド距離を使う）\n",
        "def CalcDist(data, idx1, idx2, f_distance=CalcEuclideanDistance): \n",
        "  vec1 = data[idx1, :]\n",
        "  vec2 = data[idx2, :]\n",
        "  return f_distance(vec1, vec2)\n",
        "\n",
        "CalcDist(boston.data, 0, 1)"
      ],
      "execution_count": 41,
      "outputs": [
        {
          "output_type": "execute_result",
          "data": {
            "text/plain": [
              "0.9089824134659534"
            ]
          },
          "metadata": {},
          "execution_count": 41
        }
      ]
    },
    {
      "cell_type": "markdown",
      "metadata": {
        "id": "wQ2WknAVFpFa"
      },
      "source": [
        "# 動作確認"
      ]
    },
    {
      "cell_type": "code",
      "metadata": {
<<<<<<< Updated upstream
        "id": "CiZEMaqrFsKT",
        "outputId": "08d7f4d6-86d5-4ed4-9014-329b56103165",
        "colab": {
          "base_uri": "https://localhost:8080/",
          "height": 0
=======
        "id": "CiZEMaqrFsKT"
      },
      "outputs": [
        {
          "ename": "NameError",
          "evalue": "name 'np' is not defined",
          "output_type": "error",
          "traceback": [
            "\u001b[0;31m---------------------------------------------------------------------------\u001b[0m",
            "\u001b[0;31mNameError\u001b[0m                                 Traceback (most recent call last)",
            "\u001b[0;32m/var/folders/m0/k2ybt6nd3kl08qkw0tnxshkr0000gn/T/ipykernel_75175/3815474527.py\u001b[0m in \u001b[0;36m<module>\u001b[0;34m\u001b[0m\n\u001b[0;32m----> 1\u001b[0;31m \u001b[0mvec1\u001b[0m \u001b[0;34m=\u001b[0m \u001b[0mnp\u001b[0m\u001b[0;34m.\u001b[0m\u001b[0marray\u001b[0m\u001b[0;34m(\u001b[0m\u001b[0;34m[\u001b[0m\u001b[0;36m1\u001b[0m\u001b[0;34m,\u001b[0m \u001b[0;36m1\u001b[0m\u001b[0;34m]\u001b[0m\u001b[0;34m)\u001b[0m\u001b[0;34m\u001b[0m\u001b[0;34m\u001b[0m\u001b[0m\n\u001b[0m\u001b[1;32m      2\u001b[0m \u001b[0mvec2\u001b[0m \u001b[0;34m=\u001b[0m \u001b[0mnp\u001b[0m\u001b[0;34m.\u001b[0m\u001b[0marray\u001b[0m\u001b[0;34m(\u001b[0m\u001b[0;34m[\u001b[0m\u001b[0;36m1\u001b[0m\u001b[0;34m,\u001b[0m \u001b[0;36m2\u001b[0m\u001b[0;34m]\u001b[0m\u001b[0;34m)\u001b[0m\u001b[0;34m\u001b[0m\u001b[0;34m\u001b[0m\u001b[0m\n\u001b[1;32m      3\u001b[0m \u001b[0mCalcEuclideanDistance\u001b[0m\u001b[0;34m(\u001b[0m\u001b[0mvec1\u001b[0m\u001b[0;34m,\u001b[0m \u001b[0mvec2\u001b[0m\u001b[0;34m)\u001b[0m \u001b[0;31m#距離は1になるはず\u001b[0m\u001b[0;34m\u001b[0m\u001b[0;34m\u001b[0m\u001b[0m\n",
            "\u001b[0;31mNameError\u001b[0m: name 'np' is not defined"
          ]
>>>>>>> Stashed changes
        }
      },
      "source": [
        "import numpy as np\n",
        "vec1 = np.array([1, 1])\n",
        "vec2 = np.array([1, 2])\n",
        "CalcEuclideanDistance(vec1, vec2) #距離は1になるはず"
      ],
      "execution_count": 42,
      "outputs": [
        {
          "output_type": "execute_result",
          "data": {
            "text/plain": [
              "1.0"
            ]
          },
          "metadata": {},
          "execution_count": 42
        }
      ]
    },
    {
      "cell_type": "code",
      "metadata": {
        "id": "F7VcRA_UFuva",
        "outputId": "228f4ae9-ae49-4ab1-dfea-ef3e0cf8beab",
        "colab": {
          "base_uri": "https://localhost:8080/",
          "height": 0
        }
      },
      "source": [
        "vec1 = np.array([3, 2])\n",
        "vec2 = np.array([1, 6])\n",
        "CalcEuclideanDistance(vec1, vec2) #手計算と同じになるか確認してみよう"
      ],
      "execution_count": 43,
      "outputs": [
        {
          "output_type": "execute_result",
          "data": {
            "text/plain": [
              "4.47213595499958"
            ]
          },
          "metadata": {},
          "execution_count": 43
        }
      ]
    },
    {
      "cell_type": "markdown",
      "metadata": {
        "id": "o7SmJUS1zkQT"
      },
      "source": [
        "色々な家間で距離を計算してみて、距離と価格を表示してみよう。\n",
        "\n",
        "完成したら実行して、このページをPDFにプリントして、CLEから提出"
      ]
    },
    {
      "cell_type": "code",
      "metadata": {
        "id": "6FI2r6dHmQ-D"
      },
      "source": [
        "# 家の情報表示する関数\n",
        "def print_house_info(data, target, idx):\n",
        "  print('インデックス：', idx)\n",
        "  print('属性：', data[idx,:])\n",
        "  print('価格：', target[idx])"
      ],
      "execution_count": 44,
      "outputs": []
    },
    {
      "cell_type": "code",
      "metadata": {
        "id": "ix94z1fToVaI",
        "colab": {
          "base_uri": "https://localhost:8080/",
          "height": 0
        },
        "outputId": "ac9bf60b-dc9a-4cc4-ecbb-87b01914c804"
      },
      "source": [
        "idx1 = 100\n",
        "idx2 = 200\n",
        "# 距離を計算してみる\n",
        "print('距離：', CalcDist(boston.data, idx1, idx2))\n",
        "# 家の属性情報を表示してみる\n",
        "print_house_info(boston.data, boston.target, idx1)"
      ],
      "execution_count": 45,
      "outputs": [
        {
          "output_type": "stream",
          "name": "stdout",
          "text": [
            "距離： 2.751781305860318\n",
            "インデックス： 100\n",
            "属性： [-0.99680027 -1.         -0.40615836 -1.         -0.44444444  0.21325925\n",
            "  0.58599382 -0.7002428  -0.65217391 -0.2480916   0.76595745  0.98920773\n",
            " -0.57560706]\n",
            "価格： 27.5\n"
          ]
        }
      ]
    },
    {
      "cell_type": "markdown",
      "metadata": {
        "id": "LkGDkVmEh94T"
      },
      "source": [
        "# やってみよう\n",
        "scikit-learnには正規化以外にも標準化を行う機能も用意されている。Bostonデータを標準化してみよう。まだ、距離計算も実行してみよう。\n",
        "\n",
        "https://scikit-learn.org/stable/modules/generated/sklearn.preprocessing.StandardScaler.html"
      ]
    },
    {
      "cell_type": "code",
      "metadata": {
        "id": "b5sOjpVyiK-4",
        "outputId": "a72f0c83-5ef8-4a47-bb16-f9a26912dd89",
        "colab": {
          "base_uri": "https://localhost:8080/",
          "height": 204
        }
      },
      "source": [
        "# ボストンデータを再度読み出す必要あり（上で既に正規化をしてしまったため）\n",
        "import pandas as pd\n",
        "from sklearn.datasets import load_boston\n",
        "boston = load_boston()\n",
        "boston.data\n",
        "from sklearn.preprocessing import StandardScaler\n",
        "scaler = StandardScaler([-1,1])\n",
        "scaler.fit(boston.data)\n",
        "boston.data = scaler.transform(boston.data)\n",
        "df = pd.DataFrame(boston.data, columns=boston.feature_names)\n",
        "df.head()"
      ],
      "execution_count": 46,
      "outputs": [
        {
          "output_type": "execute_result",
          "data": {
            "text/html": [
              "<div>\n",
              "<style scoped>\n",
              "    .dataframe tbody tr th:only-of-type {\n",
              "        vertical-align: middle;\n",
              "    }\n",
              "\n",
              "    .dataframe tbody tr th {\n",
              "        vertical-align: top;\n",
              "    }\n",
              "\n",
              "    .dataframe thead th {\n",
              "        text-align: right;\n",
              "    }\n",
              "</style>\n",
              "<table border=\"1\" class=\"dataframe\">\n",
              "  <thead>\n",
              "    <tr style=\"text-align: right;\">\n",
              "      <th></th>\n",
              "      <th>CRIM</th>\n",
              "      <th>ZN</th>\n",
              "      <th>INDUS</th>\n",
              "      <th>CHAS</th>\n",
              "      <th>NOX</th>\n",
              "      <th>RM</th>\n",
              "      <th>AGE</th>\n",
              "      <th>DIS</th>\n",
              "      <th>RAD</th>\n",
              "      <th>TAX</th>\n",
              "      <th>PTRATIO</th>\n",
              "      <th>B</th>\n",
              "      <th>LSTAT</th>\n",
              "    </tr>\n",
              "  </thead>\n",
              "  <tbody>\n",
              "    <tr>\n",
              "      <th>0</th>\n",
              "      <td>-0.419782</td>\n",
              "      <td>0.284830</td>\n",
              "      <td>-1.287909</td>\n",
              "      <td>-0.272599</td>\n",
              "      <td>-0.144217</td>\n",
              "      <td>0.413672</td>\n",
              "      <td>-0.120013</td>\n",
              "      <td>0.140214</td>\n",
              "      <td>-0.982843</td>\n",
              "      <td>-0.666608</td>\n",
              "      <td>-1.459000</td>\n",
              "      <td>0.441052</td>\n",
              "      <td>-1.075562</td>\n",
              "    </tr>\n",
              "    <tr>\n",
              "      <th>1</th>\n",
              "      <td>-0.417339</td>\n",
              "      <td>-0.487722</td>\n",
              "      <td>-0.593381</td>\n",
              "      <td>-0.272599</td>\n",
              "      <td>-0.740262</td>\n",
              "      <td>0.194274</td>\n",
              "      <td>0.367166</td>\n",
              "      <td>0.557160</td>\n",
              "      <td>-0.867883</td>\n",
              "      <td>-0.987329</td>\n",
              "      <td>-0.303094</td>\n",
              "      <td>0.441052</td>\n",
              "      <td>-0.492439</td>\n",
              "    </tr>\n",
              "    <tr>\n",
              "      <th>2</th>\n",
              "      <td>-0.417342</td>\n",
              "      <td>-0.487722</td>\n",
              "      <td>-0.593381</td>\n",
              "      <td>-0.272599</td>\n",
              "      <td>-0.740262</td>\n",
              "      <td>1.282714</td>\n",
              "      <td>-0.265812</td>\n",
              "      <td>0.557160</td>\n",
              "      <td>-0.867883</td>\n",
              "      <td>-0.987329</td>\n",
              "      <td>-0.303094</td>\n",
              "      <td>0.396427</td>\n",
              "      <td>-1.208727</td>\n",
              "    </tr>\n",
              "    <tr>\n",
              "      <th>3</th>\n",
              "      <td>-0.416750</td>\n",
              "      <td>-0.487722</td>\n",
              "      <td>-1.306878</td>\n",
              "      <td>-0.272599</td>\n",
              "      <td>-0.835284</td>\n",
              "      <td>1.016303</td>\n",
              "      <td>-0.809889</td>\n",
              "      <td>1.077737</td>\n",
              "      <td>-0.752922</td>\n",
              "      <td>-1.106115</td>\n",
              "      <td>0.113032</td>\n",
              "      <td>0.416163</td>\n",
              "      <td>-1.361517</td>\n",
              "    </tr>\n",
              "    <tr>\n",
              "      <th>4</th>\n",
              "      <td>-0.412482</td>\n",
              "      <td>-0.487722</td>\n",
              "      <td>-1.306878</td>\n",
              "      <td>-0.272599</td>\n",
              "      <td>-0.835284</td>\n",
              "      <td>1.228577</td>\n",
              "      <td>-0.511180</td>\n",
              "      <td>1.077737</td>\n",
              "      <td>-0.752922</td>\n",
              "      <td>-1.106115</td>\n",
              "      <td>0.113032</td>\n",
              "      <td>0.441052</td>\n",
              "      <td>-1.026501</td>\n",
              "    </tr>\n",
              "  </tbody>\n",
              "</table>\n",
              "</div>"
            ],
            "text/plain": [
              "       CRIM        ZN     INDUS  ...   PTRATIO         B     LSTAT\n",
              "0 -0.419782  0.284830 -1.287909  ... -1.459000  0.441052 -1.075562\n",
              "1 -0.417339 -0.487722 -0.593381  ... -0.303094  0.441052 -0.492439\n",
              "2 -0.417342 -0.487722 -0.593381  ... -0.303094  0.396427 -1.208727\n",
              "3 -0.416750 -0.487722 -1.306878  ...  0.113032  0.416163 -1.361517\n",
              "4 -0.412482 -0.487722 -1.306878  ...  0.113032  0.441052 -1.026501\n",
              "\n",
              "[5 rows x 13 columns]"
            ]
          },
          "metadata": {},
          "execution_count": 46
        }
      ]
    },
    {
      "cell_type": "code",
      "metadata": {
        "id": "wN5p0tvzgNDo"
      },
      "source": [
        "# 家の情報表示する関数\n",
        "def print_house_info(data, target, idx):\n",
        "  print('インデックス：', idx)\n",
        "  print('属性：', data[idx,:])\n",
        "  print('価格：', target[idx])"
      ],
      "execution_count": 47,
      "outputs": []
    },
    {
      "cell_type": "code",
      "metadata": {
        "colab": {
          "base_uri": "https://localhost:8080/",
          "height": 0
        },
        "id": "QGLfrGTRgQKD",
        "outputId": "58b098c0-28d7-4188-a0aa-a629f84df297"
      },
      "source": [
        "idx1 = 100\n",
        "idx2 = 200\n",
        "# 距離を計算してみる\n",
        "print('距離：', CalcDist(boston.data, idx1, idx2))\n",
        "# 家の属性情報を表示してみる\n",
        "print_house_info(boston.data, boston.target, idx1)"
      ],
      "execution_count": 48,
      "outputs": [
        {
          "output_type": "stream",
          "name": "stdout",
          "text": [
            "距離： 5.809402983223517\n",
            "インデックス： 100\n",
            "属性： [-0.40321737 -0.48772236 -0.37597609 -0.27259857 -0.29970737  0.63022001\n",
            "  0.40272699 -0.48356578 -0.52300145 -0.14395131  1.13022958  0.41758821\n",
            " -0.45319071]\n",
            "価格： 27.5\n"
          ]
        }
      ]
    }
  ]
}